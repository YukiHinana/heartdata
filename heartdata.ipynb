{
  "nbformat": 4,
  "nbformat_minor": 0,
  "metadata": {
    "colab": {
      "name": "heartdata.ipynb",
      "provenance": [],
      "collapsed_sections": []
    },
    "kernelspec": {
      "name": "python3",
      "display_name": "Python 3"
    }
  },
  "cells": [
    {
      "cell_type": "code",
      "metadata": {
        "id": "78Iov0WxBSbR"
      },
      "source": [
        "url = 'https://raw.githubusercontent.com/YukiHinana/heartdata/master/heart_data_resampled.csv'\n",
        "html = ''"
      ],
      "execution_count": null,
      "outputs": []
    },
    {
      "cell_type": "code",
      "metadata": {
        "id": "tDsgpP3O8MgS"
      },
      "source": [
        "from numpy import loadtxt\n",
        "from xgboost import XGBClassifier\n",
        "from sklearn.model_selection import train_test_split\n",
        "from sklearn.metrics import accuracy_score"
      ],
      "execution_count": null,
      "outputs": []
    },
    {
      "cell_type": "code",
      "metadata": {
        "id": "m4IXgcYO8pHE"
      },
      "source": [
        "dataset = loadtxt(url, delimiter=\",\", skiprows=1, usecols=range(1,15))"
      ],
      "execution_count": null,
      "outputs": []
    },
    {
      "cell_type": "markdown",
      "metadata": {
        "id": "KUG44VGOYv0n"
      },
      "source": [
        ""
      ]
    },
    {
      "cell_type": "code",
      "metadata": {
        "id": "dJoRObo39KvT"
      },
      "source": [
        "#dataset[0]"
      ],
      "execution_count": null,
      "outputs": []
    },
    {
      "cell_type": "code",
      "metadata": {
        "id": "yk8HFbuO9PMR"
      },
      "source": [
        "X = dataset[:,0:13]\n",
        "Y = dataset[:,13]"
      ],
      "execution_count": null,
      "outputs": []
    },
    {
      "cell_type": "code",
      "metadata": {
        "id": "NG1bFX3_9dcH"
      },
      "source": [
        "seed = 1\n",
        "test_size = 0.2\n",
        "X_train, X_test, Y_train, Y_test = train_test_split(X, Y, test_size=test_size, random_state=seed)"
      ],
      "execution_count": null,
      "outputs": []
    },
    {
      "cell_type": "code",
      "metadata": {
        "id": "fb2v1WqP9tWm",
        "outputId": "7057e362-e795-43c6-d11a-bdd4ae8ffffc",
        "colab": {
          "base_uri": "https://localhost:8080/",
          "height": 136
        }
      },
      "source": [
        "model = XGBClassifier()\n",
        "model.fit(X_train, Y_train)"
      ],
      "execution_count": null,
      "outputs": [
        {
          "output_type": "execute_result",
          "data": {
            "text/plain": [
              "XGBClassifier(base_score=0.5, booster='gbtree', colsample_bylevel=1,\n",
              "              colsample_bynode=1, colsample_bytree=1, gamma=0,\n",
              "              learning_rate=0.1, max_delta_step=0, max_depth=3,\n",
              "              min_child_weight=1, missing=None, n_estimators=100, n_jobs=1,\n",
              "              nthread=None, objective='binary:logistic', random_state=0,\n",
              "              reg_alpha=0, reg_lambda=1, scale_pos_weight=1, seed=None,\n",
              "              silent=None, subsample=1, verbosity=1)"
            ]
          },
          "metadata": {
            "tags": []
          },
          "execution_count": 88
        }
      ]
    },
    {
      "cell_type": "code",
      "metadata": {
        "id": "kX8i3VIq9zxv",
        "outputId": "1ba9ad64-7013-482d-cc70-42a9d12fc219",
        "colab": {
          "base_uri": "https://localhost:8080/",
          "height": 34
        }
      },
      "source": [
        "Y_pred = model.predict(X_test)\n",
        "predictions = [round(value) for value in Y_pred]"
      ],
      "execution_count": null,
      "outputs": [
        {
          "output_type": "stream",
          "text": [
            "comparison: y =  [0. 0. 0. ... 0. 1. 1.]  x =  [0. 0. 0. ... 0. 1. 1.]\n"
          ],
          "name": "stdout"
        }
      ]
    },
    {
      "cell_type": "code",
      "metadata": {
        "id": "zAL3cW3H9--T"
      },
      "source": [
        "accuracy = accuracy_score(Y_test, predictions)"
      ],
      "execution_count": null,
      "outputs": []
    },
    {
      "cell_type": "code",
      "metadata": {
        "id": "cDG5OiOU-Dtm",
        "outputId": "eeca1f4d-e093-49d8-d618-0140672384a1",
        "colab": {
          "base_uri": "https://localhost:8080/",
          "height": 34
        }
      },
      "source": [
        "print(\"Accuracy: %.2f%%\" % (accuracy * 100.0))"
      ],
      "execution_count": null,
      "outputs": [
        {
          "output_type": "stream",
          "text": [
            "Accuracy: 95.63%\n"
          ],
          "name": "stdout"
        }
      ]
    },
    {
      "cell_type": "code",
      "metadata": {
        "id": "XrfvuNdA-Mzu",
        "outputId": "8b4d357d-903c-40bd-954c-6db90080939e",
        "colab": {
          "base_uri": "https://localhost:8080/",
          "height": 35
        }
      },
      "source": [
        "'''for x in range(len(Y_test)):\n",
        "  if Y_test[x] != predictions[x]:\n",
        "    print(Y_test[x], predictions[x])'''"
      ],
      "execution_count": null,
      "outputs": [
        {
          "output_type": "execute_result",
          "data": {
            "application/vnd.google.colaboratory.intrinsic+json": {
              "type": "string"
            },
            "text/plain": [
              "'for x in range(len(Y_test)):\\n  if Y_test[x] != predictions[x]:\\n    print(Y_test[x], predictions[x])'"
            ]
          },
          "metadata": {
            "tags": []
          },
          "execution_count": 93
        }
      ]
    },
    {
      "cell_type": "code",
      "metadata": {
        "id": "wCo7gLX8ERoU"
      },
      "source": [
        "from sklearn.metrics import confusion_matrix\n",
        "confusion_matrix = confusion_matrix(Y_test, Y_pred)"
      ],
      "execution_count": null,
      "outputs": []
    },
    {
      "cell_type": "markdown",
      "metadata": {
        "id": "G6AkF0JfIhiu"
      },
      "source": [
        "\n",
        "XGBC Default Schema\n",
        "\n",
        "learning_rate=0.1\n",
        "n_estimators=100\n",
        "silent=True\n",
        "objective='binary:logistic'\n",
        "booster='gbtree'\n",
        "n_jobs=1\n",
        "nthread=None\n",
        "gamma=0\n",
        "min_child_weight=1\n",
        "max_delta_step=0\n",
        "subsample=1\n",
        "colsample_bytree=1\n",
        "colsample_bylevel=1\n",
        "reg_alpha=0\n",
        "reg_lambda=1\n",
        "scale_pos_weight=1\n",
        "base_score=0.5\n",
        "random_state=0"
      ]
    },
    {
      "cell_type": "code",
      "metadata": {
        "id": "ngkEZQiYIGkp",
        "outputId": "64e0eeef-9bd0-4574-ce6e-a989c66d07be",
        "colab": {
          "base_uri": "https://localhost:8080/",
          "height": 408
        }
      },
      "source": [
        "!pip install flask-ngrok\n",
        "!pip install emoji\n",
        "\n",
        "from flask import Flask, render_template, flash\n",
        "from flask_ngrok import run_with_ngrok\n",
        "\n",
        "import emoji\n",
        "\n",
        "app = Flask(__name__)\n",
        "run_with_ngrok(app)  # Start ngrok when app is run\n",
        "\n",
        "@app.route('/')\n",
        "def machine_learning_model():\n",
        "  flash(\"Confusion Matrix: \", confusion_matrix)\n",
        "  return render_template(html, error = error)\n",
        "\n",
        "if __name__ == \"__main__\":\n",
        "    app.run()"
      ],
      "execution_count": null,
      "outputs": [
        {
          "output_type": "stream",
          "text": [
            "Requirement already satisfied: flask-ngrok in /usr/local/lib/python3.6/dist-packages (0.0.25)\n",
            "Requirement already satisfied: requests in /usr/local/lib/python3.6/dist-packages (from flask-ngrok) (2.23.0)\n",
            "Requirement already satisfied: Flask>=0.8 in /usr/local/lib/python3.6/dist-packages (from flask-ngrok) (1.1.2)\n",
            "Requirement already satisfied: idna<3,>=2.5 in /usr/local/lib/python3.6/dist-packages (from requests->flask-ngrok) (2.10)\n",
            "Requirement already satisfied: certifi>=2017.4.17 in /usr/local/lib/python3.6/dist-packages (from requests->flask-ngrok) (2020.6.20)\n",
            "Requirement already satisfied: chardet<4,>=3.0.2 in /usr/local/lib/python3.6/dist-packages (from requests->flask-ngrok) (3.0.4)\n",
            "Requirement already satisfied: urllib3!=1.25.0,!=1.25.1,<1.26,>=1.21.1 in /usr/local/lib/python3.6/dist-packages (from requests->flask-ngrok) (1.24.3)\n",
            "Requirement already satisfied: Jinja2>=2.10.1 in /usr/local/lib/python3.6/dist-packages (from Flask>=0.8->flask-ngrok) (2.11.2)\n",
            "Requirement already satisfied: itsdangerous>=0.24 in /usr/local/lib/python3.6/dist-packages (from Flask>=0.8->flask-ngrok) (1.1.0)\n",
            "Requirement already satisfied: click>=5.1 in /usr/local/lib/python3.6/dist-packages (from Flask>=0.8->flask-ngrok) (7.1.2)\n",
            "Requirement already satisfied: Werkzeug>=0.15 in /usr/local/lib/python3.6/dist-packages (from Flask>=0.8->flask-ngrok) (1.0.1)\n",
            "Requirement already satisfied: MarkupSafe>=0.23 in /usr/local/lib/python3.6/dist-packages (from Jinja2>=2.10.1->Flask>=0.8->flask-ngrok) (1.1.1)\n",
            "Requirement already satisfied: emoji in /usr/local/lib/python3.6/dist-packages (0.6.0)\n",
            " * Serving Flask app \"__main__\" (lazy loading)\n",
            " * Environment: production\n",
            "\u001b[31m   WARNING: This is a development server. Do not use it in a production deployment.\u001b[0m\n",
            "\u001b[2m   Use a production WSGI server instead.\u001b[0m\n",
            " * Debug mode: off\n"
          ],
          "name": "stdout"
        },
        {
          "output_type": "stream",
          "text": [
            " * Running on http://127.0.0.1:5000/ (Press CTRL+C to quit)\n"
          ],
          "name": "stderr"
        },
        {
          "output_type": "stream",
          "text": [
            " * Running on http://549adc4e6570.ngrok.io\n",
            " * Traffic stats available on http://127.0.0.1:4040\n"
          ],
          "name": "stdout"
        },
        {
          "output_type": "stream",
          "text": [
            "127.0.0.1 - - [26/Sep/2020 21:34:55] \"\u001b[37mGET / HTTP/1.1\u001b[0m\" 200 -\n",
            "127.0.0.1 - - [26/Sep/2020 21:34:56] \"\u001b[33mGET /favicon.ico HTTP/1.1\u001b[0m\" 404 -\n"
          ],
          "name": "stderr"
        }
      ]
    },
    {
      "cell_type": "code",
      "metadata": {
        "id": "z72739MQYeSe"
      },
      "source": [
        "<!DOCTYPE html>\n",
        "<html>\n",
        "  <head>\n",
        "    <title>Mashine Learning</title>\n",
        "    <link rel=\"stylesheet\" href=\"https://stackpath.bootstrapcdn.com/bootstrap/4.5.2/css/bootstrap.min.css\" integrity=\"sha384-JcKb8q3iqJ61gNV9KGb8thSsNjpSL0n8PARn9HuZOnIxN0hoP+VmmDGMN5t9UJ0Z\" crossorigin=\"anonymous\">\n",
        "  </head>\n",
        "  <body>\n",
        "    <div class=\"container\" style=\"max-width: 500px;\">\n",
        "      <h1>Mashine Learning &#128540</h1>\n",
        "      <div style=\"height: 10px\"></div>\n",
        "      <p>\n",
        "        Import your CSV file with the following format: <br>\n",
        "        Variables (units) [usual range]\n",
        "      </p>\n",
        "      <form action=\"\" method=\"post\" novalidate>\n",
        "        {{ form.hidden_tag() }}\n",
        "        <label for=\"avatar\">Choose CSV file:</label>\n",
        "        <input type=\"file\"\n",
        "            accept=\".csv\">\n",
        "          {{ form.submit(class='btn btn-primary') }} &#128072\n",
        "      </form>\n",
        "      <hr>\n",
        "        {% with messages = get_flashed_messages() %}\n",
        "        {% if messages %}\n",
        "        <ul>\n",
        "            {% for message in messages %}\n",
        "            <li>{{ message }}</li>\n",
        "            {% endfor %}\n",
        "        </ul>\n",
        "        {% endif %}\n",
        "        {% endwith %}\n",
        "        {% if error != None %}\n",
        "          {{ error }}\n",
        "        {% endif %}\n",
        "    </div>\n",
        "  </body>\n",
        "</html>"
      ],
      "execution_count": null,
      "outputs": []
    }
  ]
}